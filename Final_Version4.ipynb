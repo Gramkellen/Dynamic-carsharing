{
 "cells": [
  {
   "cell_type": "code",
   "execution_count": 1,
   "id": "46eeeb9b",
   "metadata": {
    "ExecuteTime": {
     "end_time": "2023-03-09T11:04:24.885236Z",
     "start_time": "2023-03-09T11:04:22.056851Z"
    },
    "code_folding": [
     0
    ],
    "execution": {
     "iopub.execute_input": "2023-03-21T03:40:47.078177Z",
     "iopub.status.busy": "2023-03-21T03:40:47.077889Z",
     "iopub.status.idle": "2023-03-21T03:40:48.073730Z",
     "shell.execute_reply": "2023-03-21T03:40:48.072830Z",
     "shell.execute_reply.started": "2023-03-21T03:40:47.078153Z"
    },
    "scrolled": true,
    "tags": []
   },
   "outputs": [],
   "source": [
    "# import sys \n",
    "# sys.path.append('/home/aistudio/external-libraries')\n",
    "#------------------------------调包-----------------------#\n",
    "# import geopandas as gpd\n",
    "import pandas as pd\n",
    "import matplotlib.pyplot as plt\n",
    "# import osmnx as ox\n",
    "# import taxicab as tc  #导入taxicab包\n",
    "import math\n",
    "import random\n",
    "from random import randint\n",
    "#加载依赖库\n",
    "import networkx as nx\n",
    "from networkx.algorithms import approximation         #调用启发式算法的包\n",
    "import PIL \n",
    "import numpy as np\n",
    "from haversine import haversine\n",
    "#四个常数，可以测试取最优结果，目前取1\n",
    "c1=1\n",
    "c2=1\n",
    "c3=1\n",
    "c4=1"
   ]
  },
  {
   "cell_type": "code",
   "execution_count": 2,
   "id": "5fcb5e68",
   "metadata": {
    "ExecuteTime": {
     "end_time": "2023-03-09T11:04:41.078671Z",
     "start_time": "2023-03-09T11:04:24.885236Z"
    },
    "code_folding": [
     0
    ],
    "execution": {
     "iopub.execute_input": "2023-03-21T03:40:48.075621Z",
     "iopub.status.busy": "2023-03-21T03:40:48.074823Z",
     "iopub.status.idle": "2023-03-21T03:40:48.079279Z",
     "shell.execute_reply": "2023-03-21T03:40:48.078277Z",
     "shell.execute_reply.started": "2023-03-21T03:40:48.075589Z"
    },
    "scrolled": true
   },
   "outputs": [],
   "source": [
    "# #获得嘉定区路网图\n",
    "# G1=ox.graph.graph_from_xml(r\"D:\\大学学习资料汇总\\交通工程专业\\2022交通科技大赛\\数据\\sh.osm\") #获取嘉定区数据\n",
    "# G1 = ox.projection.project_graph(G1)   #进行投影\n",
    "# # G_84 = ox.projection.project_graph(G1,to_crs='EPSG:4326')  "
   ]
  },
  {
   "cell_type": "code",
   "execution_count": 3,
   "id": "397e8881-afce-44c1-8196-9b639d089d94",
   "metadata": {
    "execution": {
     "iopub.execute_input": "2023-03-21T03:40:48.080908Z",
     "iopub.status.busy": "2023-03-21T03:40:48.080201Z",
     "iopub.status.idle": "2023-03-21T03:40:48.084144Z",
     "shell.execute_reply": "2023-03-21T03:40:48.083376Z",
     "shell.execute_reply.started": "2023-03-21T03:40:48.080882Z"
    },
    "scrolled": true,
    "tags": []
   },
   "outputs": [],
   "source": [
    "res=[0]\r\n",
    "# res[-2]\r\n"
   ]
  },
  {
   "cell_type": "code",
   "execution_count": 4,
   "id": "c638c204-9024-4e18-8d7c-47976ef23db7",
   "metadata": {
    "execution": {
     "iopub.execute_input": "2023-03-21T03:40:48.085208Z",
     "iopub.status.busy": "2023-03-21T03:40:48.085005Z",
     "iopub.status.idle": "2023-03-21T03:40:48.088881Z",
     "shell.execute_reply": "2023-03-21T03:40:48.087927Z",
     "shell.execute_reply.started": "2023-03-21T03:40:48.085189Z"
    },
    "scrolled": true,
    "tags": []
   },
   "outputs": [],
   "source": [
    "# for i in range(len(G2.nodes)):\r\n",
    "#     print(G2.nodes[i]['weight'])"
   ]
  },
  {
   "cell_type": "code",
   "execution_count": 5,
   "id": "7cd6cfa5-f697-4784-bde2-a4eee198904c",
   "metadata": {
    "ExecuteTime": {
     "end_time": "2023-03-09T11:04:41.126872Z",
     "start_time": "2023-03-09T11:04:41.102001Z"
    },
    "code_folding": [],
    "execution": {
     "iopub.execute_input": "2023-03-21T03:40:48.090457Z",
     "iopub.status.busy": "2023-03-21T03:40:48.090245Z",
     "iopub.status.idle": "2023-03-21T03:40:48.116623Z",
     "shell.execute_reply": "2023-03-21T03:40:48.115872Z",
     "shell.execute_reply.started": "2023-03-21T03:40:48.090438Z"
    },
    "scrolled": true,
    "tags": []
   },
   "outputs": [],
   "source": [
    "#---------------------------------最大权重独立集函数--------------------------#\n",
    "#初始化生成初始解\n",
    "def Initialize(G):\n",
    "    S=[]\n",
    "    AddFreeNode(S,G)\n",
    "    return S\n",
    "            \n",
    "#求解独立集权重的函数\n",
    "def Weight(S,G):\n",
    "    total=0\n",
    "    if(len(S)):\n",
    "        for i in S:\n",
    "            total+=G.nodes[i]['weight']\n",
    "    return total\n",
    "\n",
    "#返回V-S的集合\n",
    "def GET_V_S(S,G):\n",
    "    V_S=[]\n",
    "    if(S):\n",
    "        for i in G.nodes:\n",
    "            if(i not in S):\n",
    "                V_S.append(i)\n",
    "        return V_S\n",
    "    else:\n",
    "        return list(G.nodes)\n",
    "#随机均匀添加节点\n",
    "def AddFreeNode(S,G):\n",
    "    V_S=GET_V_S(S,G)\n",
    "    Isend=True\n",
    "    while(Isend):\n",
    "        k=randint(0,len(V_S)-1) #随机生成节点\n",
    "        j=V_S[k]              #j为节点\n",
    "        if(S==None):\n",
    "            S.append(j)\n",
    "            V_S.remove(j)\n",
    "        else :\n",
    "            Isadd=True          #判断是否添加节点\n",
    "            for i in S:\n",
    "                if((i,j) in G.edges or G.nodes[j]['weight']<0):       #说明节点不独立，或者权重为0，不添加\n",
    "                    Isadd=False\n",
    "                    break\n",
    "            if(Isadd):\n",
    "                S.append(j)\n",
    "                V_S.remove(j)\n",
    "        \n",
    "        #下列代码为了判断S是否已经是最大集  \n",
    "        Ending=True\n",
    "        for i in V_S:\n",
    "            Iexit=False\n",
    "            for j in S:\n",
    "                if((i,j) in G.edges()):\n",
    "                    Iexit=True               #说明相连\n",
    "                    break\n",
    "            if(Iexit==False and G.nodes[i]['weight']>=0):    \n",
    "                S.append(i)\n",
    "                V_S.remove(i)\n",
    "                Ending=False\n",
    "                break\n",
    "        if(Ending):\n",
    "            Isend=False         \n",
    "#扰动函数\n",
    "def Perturb(k,S,G):\n",
    "    S1=S.copy()\n",
    "    V_S=GET_V_S(S,G)\n",
    "    Se=[]\n",
    "    i=0\n",
    "    while(i<k):\n",
    "        a=randint(0,len(V_S)-1)\n",
    "        \n",
    "        b=V_S[a]\n",
    "        if(Se==None):\n",
    "            Se.append(b)\n",
    "            i+=1\n",
    "        elif(b not in Se):\n",
    "            Notadd=False\n",
    "            for vertex in Se:\n",
    "                if((b,vertex) in G.edges):\n",
    "                    Notadd=True\n",
    "                    break\n",
    "            if(not Notadd):\n",
    "                Se.append(b)\n",
    "                i+=1\n",
    "    #进行扰动\n",
    "    RE=[]  #记录需要删除的元素,不能直接remove，会有bug\n",
    "    for ve in Se:\n",
    "        for v in S1:\n",
    "            if((v,ve) in G.edges()):\n",
    "                RE.append(v)\n",
    "    #加入节点\n",
    "    for v in RE:\n",
    "        S1.remove(v)\n",
    "    for v in Se:\n",
    "        S1.append(v)\n",
    "    AddFreeNode(S1,G)\n",
    "    return S1\n",
    "\n",
    "#利用邻域框架添加节点\n",
    "def Firstimprovement(k,S,G):  #O(n2)\n",
    "    V_S=GET_V_S(S,G)\n",
    "    Vs=V_S.copy()\n",
    "    S1=S.copy() \n",
    "    if k==1:  #w-1交换法:插入1个节点，删除与之相连的w个顶点\n",
    "        for v in Vs:\n",
    "            total=0   #记录权重，判断删除后效果\n",
    "            a=[]  #记录节点\n",
    "            for k in S1:\n",
    "                if((v,k) in G.edges):\n",
    "                    total+=G.nodes[k]['weight']\n",
    "                    a.append(k)\n",
    "            #如果权重满足条件的话\n",
    "            if(G.nodes[v]['weight']-total>0):\n",
    "                for k in a:\n",
    "                    if(k in S1):\n",
    "                        S1.remove(k)\n",
    "                S1.append(v)\n",
    "                break\n",
    "        return S1\n",
    "    else:         #1-2交换法   删除1个顶点，交换与之相连的顶点——   O(n3)\n",
    "        for i in S1:\n",
    "            count=0\n",
    "            Solution=[]     #先求得可能加入的点集\n",
    "            T_Solution=[]\n",
    "            for j in V_S:\n",
    "                if((i,j) in G.edges):\n",
    "                    Solution.append(j)\n",
    "            #找到与i相连的两个顶点,并且这两个与其他顶点不相连\n",
    "            RE=[]\n",
    "            for j in S1:\n",
    "                if(j!=i):\n",
    "                    for k in Solution:\n",
    "                        if((k,j) in G.edges):\n",
    "                            RE.append(k)\n",
    "            for vertex in RE:\n",
    "                Solution.remove(vertex)\n",
    "            #若条件判断后节点不为空\n",
    "            if(Solution):  #删除节点后不为空\n",
    "                for k1 in range(len(Solution)):\n",
    "                    for k2 in range(k1+1,len(Solution)):\n",
    "                        #k1,k2只是下标，具体的还要得到节点值!!pay attention!\n",
    "                        k1node=Solution[k1]    \n",
    "                        k2node=Solution[k2]\n",
    "                        if(((k1node,k2node) not in G.edges) and ((G.nodes[k1node]['weight']+G.nodes[k2node]['weight'])>=G.nodes[i]['weight'])):\n",
    "                            T_Solution.append((k1node,k2node))\n",
    "            #进行加入判断,如果满足权重要求，就加入\n",
    "            if(T_Solution):\n",
    "                S1.remove(i)\n",
    "                S1.append(T_Solution[0][0])\n",
    "                S1.append(T_Solution[0][1])\n",
    "                break\n",
    "        return S1 \n",
    "#局部搜索算法\n",
    "\n",
    "\n",
    "#Add FreeNnode in order to make max independent set\n",
    "def LocalSearch(S,G):\n",
    "    k=1\n",
    "    while(k<=2):\n",
    "        #这里出现了死循环\n",
    "        S1=Firstimprovement(k,S,G)    #k=1采用1个插入方式，k=2采用(1,2)交换法 ,也就是两个邻域结构\n",
    "        if(Weight(S1,G)<=Weight(S,G)):\n",
    "            k+=1\n",
    "        else:\n",
    "            k=1\n",
    "            S=S1\n",
    "            AddFreeNode(S,G)          #inorder to make maximum set number\n",
    "    return S\n",
    "\n",
    "#接受函数\n",
    "def Accept(S,S_,S1,i,local_best_w,G):\n",
    "    if(Weight(S,G)<Weight(S1,G)):\n",
    "        S=S1\n",
    "        i=1\n",
    "        if local_best_w<Weight(S,G):\n",
    "            local_best_w=Weight(S,G)\n",
    "            i=i-(len(S)/c2)\n",
    "        if Weight(S_,G)<Weight(S,G):\n",
    "            S_=S\n",
    "            i=i-(len(S)/c3)\n",
    "    elif(i<=(len(S)/c2)):\n",
    "        i+=1\n",
    "    else:\n",
    "        local_best_w=Weight(S,G)\n",
    "        S=Perturb(c4,S,G)\n",
    "        i=1\n",
    "    return (S,S_,i,local_best_w)\n",
    "#局部迭代搜索函数\n",
    "def ILS_VND(G,maxIter):\n",
    "    '''\n",
    "    传入图和最大迭代次数\n",
    "    '''\n",
    "    global c1,c2,c3,c4\n",
    "    S0 = Initialize(G) # initial solution\n",
    "    S = LocalSearch(S0, G) #current solution,通过本地搜索得到一个解\n",
    "    S_=S\n",
    "    local_best_w = Weight(S,G)  \n",
    "    iter = 1\n",
    "    i = 1\n",
    "    while iter<maxIter:\n",
    "        S1=Perturb(c1,S,G)       #扰动解决方案\n",
    "        S1 = LocalSearch(S1, G)\n",
    "        (S, S_, i, local_best_w) = Accept(S, S_, S1, i, local_best_w, G)\n",
    "        iter = iter + 1\n",
    "    return S_\n",
    "#----------------------------------------------End---------------------------------------------#"
   ]
  },
  {
   "cell_type": "code",
   "execution_count": 6,
   "id": "9687a878-543c-4446-8dcd-67bb12bde788",
   "metadata": {
    "execution": {
     "iopub.execute_input": "2023-03-21T03:40:48.117654Z",
     "iopub.status.busy": "2023-03-21T03:40:48.117443Z",
     "iopub.status.idle": "2023-03-21T03:40:48.121743Z",
     "shell.execute_reply": "2023-03-21T03:40:48.120997Z",
     "shell.execute_reply.started": "2023-03-21T03:40:48.117636Z"
    },
    "scrolled": true,
    "tags": []
   },
   "outputs": [],
   "source": [
    "# #15 15 3下的不同指标的对比\r\n",
    "# res=np.zeros([4,4])\r\n",
    "# for i in [1]:\r\n",
    "#     GD1=Creat_Graph(D,15,3,i)\r\n",
    "#     G2,KONG=ConALL(GD1)\r\n",
    "#     print(\"Geneal\")\r\n",
    "#     SE=ILS_VND(G2,50)\r\n",
    "#     d0=0 #绕行比的出行距离 与dis0区分开来\r\n",
    "#     dis1=0\r\n",
    "#     time1=0\r\n",
    "#     cost1=0\r\n",
    "#     for j in SE:\r\n",
    "#         d0+=D.loc[G2.nodes[j]['key'][0],\"行驶距离/m\"]\r\n",
    "#         d0+=D.loc[G2.nodes[j]['key'][1],\"行驶距离/m\"]\r\n",
    "#         dis1+=G2.nodes[j]['another'][0]\r\n",
    "#         time1+=G2.nodes[j]['another'][1]\r\n",
    "#         cost1+=G2.nodes[j]['another'][2]\r\n",
    "#         dis_jianshao[i]+=G2.nodes[j]['dis']\r\n",
    "#         chezailv[i]+=G2.nodes[j]['dis1']\r\n",
    "#         yanwu[i]+=G2.nodes[j]['yanwu']\r\n",
    "#     car_num=Get_MinusCar(G2,D,SE)\r\n",
    "#     res[i][0]=dis1/len(SE)\r\n",
    "#     res[i][1]=time1/len(SE)\r\n",
    "#     res[i][2]=cost1/len(SE)\r\n",
    "#     res[i][3]=car_num/len(D)\r\n",
    "#     raoxingjuli[i]=dis_jianshao[i]/len(SE)\r\n",
    "#     raoxingbi[i]=dis_jianshao[i]/d0\r\n",
    "#     pingchelv[i]+=(len(SE)*2/TRIP_NUM)\r\n",
    "#     chezailv[i]=chezailv[i]/len(SE)\r\n",
    "#     yanwu[i]=yanwu[i]/len(SE)\r\n",
    "#     print(res[i])"
   ]
  },
  {
   "cell_type": "code",
   "execution_count": 7,
   "id": "7e5aea58-241f-4381-b19f-8375e7085dea",
   "metadata": {
    "execution": {
     "iopub.execute_input": "2023-03-21T03:40:48.125000Z",
     "iopub.status.busy": "2023-03-21T03:40:48.124784Z",
     "iopub.status.idle": "2023-03-21T03:40:48.128378Z",
     "shell.execute_reply": "2023-03-21T03:40:48.127418Z",
     "shell.execute_reply.started": "2023-03-21T03:40:48.124980Z"
    },
    "scrolled": true,
    "tags": []
   },
   "outputs": [],
   "source": [
    "# GET_V_S(S,G)"
   ]
  },
  {
   "cell_type": "code",
   "execution_count": 8,
   "id": "99ca3499-f6d3-4bd8-b47f-0ab9271d2201",
   "metadata": {
    "execution": {
     "iopub.execute_input": "2023-03-21T03:40:48.129443Z",
     "iopub.status.busy": "2023-03-21T03:40:48.129239Z",
     "iopub.status.idle": "2023-03-21T03:40:48.132980Z",
     "shell.execute_reply": "2023-03-21T03:40:48.132167Z",
     "shell.execute_reply.started": "2023-03-21T03:40:48.129424Z"
    },
    "scrolled": true,
    "tags": []
   },
   "outputs": [],
   "source": [
    "# G2.nodes[158][\"weight\"]"
   ]
  },
  {
   "cell_type": "code",
   "execution_count": 9,
   "id": "04aad7f8-8dbc-47a9-86b6-f77db2c184a9",
   "metadata": {
    "execution": {
     "iopub.execute_input": "2023-03-21T03:40:48.134224Z",
     "iopub.status.busy": "2023-03-21T03:40:48.133824Z",
     "iopub.status.idle": "2023-03-21T03:40:48.137551Z",
     "shell.execute_reply": "2023-03-21T03:40:48.136686Z",
     "shell.execute_reply.started": "2023-03-21T03:40:48.134202Z"
    },
    "scrolled": true,
    "tags": []
   },
   "outputs": [],
   "source": [
    "# G2.nodes[159][\"weight\"]"
   ]
  },
  {
   "cell_type": "code",
   "execution_count": 10,
   "id": "3eff0d16-cba1-4f1a-9144-098943f1c3e8",
   "metadata": {
    "execution": {
     "iopub.execute_input": "2023-03-21T03:40:48.138897Z",
     "iopub.status.busy": "2023-03-21T03:40:48.138439Z",
     "iopub.status.idle": "2023-03-21T03:40:48.142196Z",
     "shell.execute_reply": "2023-03-21T03:40:48.141374Z",
     "shell.execute_reply.started": "2023-03-21T03:40:48.138873Z"
    },
    "scrolled": true,
    "tags": []
   },
   "outputs": [],
   "source": [
    "# G2.nodes[160][\"weight\"]+G2.nodes[159][\"weight\"]"
   ]
  },
  {
   "cell_type": "code",
   "execution_count": 11,
   "id": "a8b63968",
   "metadata": {
    "ExecuteTime": {
     "end_time": "2023-03-09T11:04:47.382044Z",
     "start_time": "2023-03-09T11:04:42.985735Z"
    },
    "code_folding": [],
    "execution": {
     "iopub.execute_input": "2023-03-21T03:40:48.143788Z",
     "iopub.status.busy": "2023-03-21T03:40:48.143065Z",
     "iopub.status.idle": "2023-03-21T03:40:48.146803Z",
     "shell.execute_reply": "2023-03-21T03:40:48.145968Z",
     "shell.execute_reply.started": "2023-03-21T03:40:48.143765Z"
    },
    "scrolled": true
   },
   "outputs": [],
   "source": [
    "# #----------------------------------进行数据的处理-------------------------------# \n",
    "# #导入数据\n",
    "# TRIP_NUM = 100\n",
    "# Data=pd.read_excel(r\"D:\\大学学习资料汇总\\交通工程专业\\2022交通科技大赛\\数据\\Data.xlsx\")\n",
    "# D=Data.iloc[0:5000] #取一百个数据尝试"
   ]
  },
  {
   "cell_type": "code",
   "execution_count": 12,
   "id": "62e4fd72-0c77-4245-82bf-656667a665e7",
   "metadata": {
    "execution": {
     "iopub.execute_input": "2023-03-21T03:40:48.147865Z",
     "iopub.status.busy": "2023-03-21T03:40:48.147656Z",
     "iopub.status.idle": "2023-03-21T03:40:48.732422Z",
     "shell.execute_reply": "2023-03-21T03:40:48.731621Z",
     "shell.execute_reply.started": "2023-03-21T03:40:48.147845Z"
    },
    "scrolled": true,
    "tags": []
   },
   "outputs": [],
   "source": [
    "Data=pd.read_excel(r\"5000D.xlsx\")\n",
    "D=Data.iloc[0:5000:10] #取一百个数据尝试\n",
    "#出行除0问题？\n",
    "D=D.reset_index()"
   ]
  },
  {
   "cell_type": "code",
   "execution_count": 13,
   "id": "f1efe55f-d8b8-4e2d-8d37-bb4e5d44d5a6",
   "metadata": {
    "execution": {
     "iopub.execute_input": "2023-03-21T03:40:48.733625Z",
     "iopub.status.busy": "2023-03-21T03:40:48.733384Z",
     "iopub.status.idle": "2023-03-21T03:40:48.754738Z",
     "shell.execute_reply": "2023-03-21T03:40:48.754061Z",
     "shell.execute_reply.started": "2023-03-21T03:40:48.733601Z"
    },
    "scrolled": true,
    "tags": []
   },
   "outputs": [
    {
     "data": {
      "text/html": [
       "<div>\n",
       "<style scoped>\n",
       "    .dataframe tbody tr th:only-of-type {\n",
       "        vertical-align: middle;\n",
       "    }\n",
       "\n",
       "    .dataframe tbody tr th {\n",
       "        vertical-align: top;\n",
       "    }\n",
       "\n",
       "    .dataframe thead th {\n",
       "        text-align: right;\n",
       "    }\n",
       "</style>\n",
       "<table border=\"1\" class=\"dataframe\">\n",
       "  <thead>\n",
       "    <tr style=\"text-align: right;\">\n",
       "      <th></th>\n",
       "      <th>index</th>\n",
       "      <th>Unnamed: 0</th>\n",
       "      <th>出发时间</th>\n",
       "      <th>到达时间</th>\n",
       "      <th>出发X_84</th>\n",
       "      <th>出发Y_84</th>\n",
       "      <th>到达X_84</th>\n",
       "      <th>到达Y_84</th>\n",
       "      <th>行驶距离/m</th>\n",
       "      <th>花费时间</th>\n",
       "      <th>Home_X</th>\n",
       "      <th>Home_Y</th>\n",
       "    </tr>\n",
       "  </thead>\n",
       "  <tbody>\n",
       "    <tr>\n",
       "      <th>0</th>\n",
       "      <td>0</td>\n",
       "      <td>0</td>\n",
       "      <td>07:30:00</td>\n",
       "      <td>07:50:00</td>\n",
       "      <td>121.217303</td>\n",
       "      <td>31.292221</td>\n",
       "      <td>121.211738</td>\n",
       "      <td>31.264727</td>\n",
       "      <td>3958.457</td>\n",
       "      <td>20</td>\n",
       "      <td>121.221747</td>\n",
       "      <td>31.290239</td>\n",
       "    </tr>\n",
       "    <tr>\n",
       "      <th>1</th>\n",
       "      <td>10</td>\n",
       "      <td>10</td>\n",
       "      <td>08:00:00</td>\n",
       "      <td>09:00:00</td>\n",
       "      <td>121.218006</td>\n",
       "      <td>31.291656</td>\n",
       "      <td>121.445415</td>\n",
       "      <td>31.294686</td>\n",
       "      <td>29525.186</td>\n",
       "      <td>60</td>\n",
       "      <td>121.222449</td>\n",
       "      <td>31.289673</td>\n",
       "    </tr>\n",
       "    <tr>\n",
       "      <th>2</th>\n",
       "      <td>20</td>\n",
       "      <td>20</td>\n",
       "      <td>07:50:00</td>\n",
       "      <td>08:05:00</td>\n",
       "      <td>121.218049</td>\n",
       "      <td>31.290688</td>\n",
       "      <td>121.205473</td>\n",
       "      <td>31.278498</td>\n",
       "      <td>2715.731</td>\n",
       "      <td>15</td>\n",
       "      <td>121.222492</td>\n",
       "      <td>31.288704</td>\n",
       "    </tr>\n",
       "    <tr>\n",
       "      <th>3</th>\n",
       "      <td>30</td>\n",
       "      <td>30</td>\n",
       "      <td>18:00:00</td>\n",
       "      <td>18:30:00</td>\n",
       "      <td>121.253335</td>\n",
       "      <td>31.275876</td>\n",
       "      <td>121.216634</td>\n",
       "      <td>31.289105</td>\n",
       "      <td>4881.711</td>\n",
       "      <td>30</td>\n",
       "      <td>121.221079</td>\n",
       "      <td>31.287122</td>\n",
       "    </tr>\n",
       "    <tr>\n",
       "      <th>4</th>\n",
       "      <td>40</td>\n",
       "      <td>40</td>\n",
       "      <td>17:30:00</td>\n",
       "      <td>19:00:00</td>\n",
       "      <td>121.428834</td>\n",
       "      <td>31.286705</td>\n",
       "      <td>121.174745</td>\n",
       "      <td>31.284623</td>\n",
       "      <td>32662.713</td>\n",
       "      <td>90</td>\n",
       "      <td>121.179258</td>\n",
       "      <td>31.282703</td>\n",
       "    </tr>\n",
       "    <tr>\n",
       "      <th>...</th>\n",
       "      <td>...</td>\n",
       "      <td>...</td>\n",
       "      <td>...</td>\n",
       "      <td>...</td>\n",
       "      <td>...</td>\n",
       "      <td>...</td>\n",
       "      <td>...</td>\n",
       "      <td>...</td>\n",
       "      <td>...</td>\n",
       "      <td>...</td>\n",
       "      <td>...</td>\n",
       "      <td>...</td>\n",
       "    </tr>\n",
       "    <tr>\n",
       "      <th>495</th>\n",
       "      <td>4950</td>\n",
       "      <td>4950</td>\n",
       "      <td>06:50:00</td>\n",
       "      <td>07:05:00</td>\n",
       "      <td>121.306075</td>\n",
       "      <td>31.244145</td>\n",
       "      <td>121.345256</td>\n",
       "      <td>31.267581</td>\n",
       "      <td>13647.622</td>\n",
       "      <td>15</td>\n",
       "      <td>121.349140</td>\n",
       "      <td>31.265875</td>\n",
       "    </tr>\n",
       "    <tr>\n",
       "      <th>496</th>\n",
       "      <td>4960</td>\n",
       "      <td>4960</td>\n",
       "      <td>18:55:00</td>\n",
       "      <td>19:45:00</td>\n",
       "      <td>121.380723</td>\n",
       "      <td>31.267480</td>\n",
       "      <td>121.346793</td>\n",
       "      <td>31.267273</td>\n",
       "      <td>11351.993</td>\n",
       "      <td>50</td>\n",
       "      <td>121.349140</td>\n",
       "      <td>31.265875</td>\n",
       "    </tr>\n",
       "    <tr>\n",
       "      <th>497</th>\n",
       "      <td>4970</td>\n",
       "      <td>4970</td>\n",
       "      <td>07:55:00</td>\n",
       "      <td>08:10:00</td>\n",
       "      <td>121.335142</td>\n",
       "      <td>31.269039</td>\n",
       "      <td>121.346104</td>\n",
       "      <td>31.271208</td>\n",
       "      <td>1291.134</td>\n",
       "      <td>15</td>\n",
       "      <td>121.349140</td>\n",
       "      <td>31.265875</td>\n",
       "    </tr>\n",
       "    <tr>\n",
       "      <th>498</th>\n",
       "      <td>4980</td>\n",
       "      <td>4980</td>\n",
       "      <td>07:10:00</td>\n",
       "      <td>07:25:00</td>\n",
       "      <td>121.317149</td>\n",
       "      <td>31.257890</td>\n",
       "      <td>121.345635</td>\n",
       "      <td>31.267443</td>\n",
       "      <td>3814.624</td>\n",
       "      <td>15</td>\n",
       "      <td>121.349140</td>\n",
       "      <td>31.265875</td>\n",
       "    </tr>\n",
       "    <tr>\n",
       "      <th>499</th>\n",
       "      <td>4990</td>\n",
       "      <td>4990</td>\n",
       "      <td>16:30:00</td>\n",
       "      <td>16:45:00</td>\n",
       "      <td>121.335228</td>\n",
       "      <td>31.266360</td>\n",
       "      <td>121.345955</td>\n",
       "      <td>31.267484</td>\n",
       "      <td>1242.530</td>\n",
       "      <td>15</td>\n",
       "      <td>121.349140</td>\n",
       "      <td>31.265875</td>\n",
       "    </tr>\n",
       "  </tbody>\n",
       "</table>\n",
       "<p>500 rows × 12 columns</p>\n",
       "</div>"
      ],
      "text/plain": [
       "     index  Unnamed: 0      出发时间      到达时间      出发X_84     出发Y_84      到达X_84  \\\n",
       "0        0           0  07:30:00  07:50:00  121.217303  31.292221  121.211738   \n",
       "1       10          10  08:00:00  09:00:00  121.218006  31.291656  121.445415   \n",
       "2       20          20  07:50:00  08:05:00  121.218049  31.290688  121.205473   \n",
       "3       30          30  18:00:00  18:30:00  121.253335  31.275876  121.216634   \n",
       "4       40          40  17:30:00  19:00:00  121.428834  31.286705  121.174745   \n",
       "..     ...         ...       ...       ...         ...        ...         ...   \n",
       "495   4950        4950  06:50:00  07:05:00  121.306075  31.244145  121.345256   \n",
       "496   4960        4960  18:55:00  19:45:00  121.380723  31.267480  121.346793   \n",
       "497   4970        4970  07:55:00  08:10:00  121.335142  31.269039  121.346104   \n",
       "498   4980        4980  07:10:00  07:25:00  121.317149  31.257890  121.345635   \n",
       "499   4990        4990  16:30:00  16:45:00  121.335228  31.266360  121.345955   \n",
       "\n",
       "        到达Y_84     行驶距离/m  花费时间      Home_X     Home_Y  \n",
       "0    31.264727   3958.457    20  121.221747  31.290239  \n",
       "1    31.294686  29525.186    60  121.222449  31.289673  \n",
       "2    31.278498   2715.731    15  121.222492  31.288704  \n",
       "3    31.289105   4881.711    30  121.221079  31.287122  \n",
       "4    31.284623  32662.713    90  121.179258  31.282703  \n",
       "..         ...        ...   ...         ...        ...  \n",
       "495  31.267581  13647.622    15  121.349140  31.265875  \n",
       "496  31.267273  11351.993    50  121.349140  31.265875  \n",
       "497  31.271208   1291.134    15  121.349140  31.265875  \n",
       "498  31.267443   3814.624    15  121.349140  31.265875  \n",
       "499  31.267484   1242.530    15  121.349140  31.265875  \n",
       "\n",
       "[500 rows x 12 columns]"
      ]
     },
     "execution_count": 13,
     "metadata": {},
     "output_type": "execute_result"
    }
   ],
   "source": [
    "D"
   ]
  },
  {
   "cell_type": "code",
   "execution_count": 14,
   "id": "ac00e0a3-0ca6-4d88-949d-3da2def1d6fa",
   "metadata": {
    "execution": {
     "iopub.execute_input": "2023-03-21T03:40:48.755940Z",
     "iopub.status.busy": "2023-03-21T03:40:48.755723Z",
     "iopub.status.idle": "2023-03-21T03:40:48.765305Z",
     "shell.execute_reply": "2023-03-21T03:40:48.764613Z",
     "shell.execute_reply.started": "2023-03-21T03:40:48.755919Z"
    },
    "scrolled": true,
    "tags": []
   },
   "outputs": [],
   "source": [
    "for i in range(len(D)):\r\n",
    "    if (D.loc[i,\"行驶距离/m\"]==0):\r\n",
    "        D.drop(index=i,inplace=True)"
   ]
  },
  {
   "cell_type": "code",
   "execution_count": 15,
   "id": "993a070f-2ca0-46a8-bc65-382cb0f59c99",
   "metadata": {
    "execution": {
     "iopub.execute_input": "2023-03-21T03:40:48.766754Z",
     "iopub.status.busy": "2023-03-21T03:40:48.766435Z",
     "iopub.status.idle": "2023-03-21T03:40:48.770217Z",
     "shell.execute_reply": "2023-03-21T03:40:48.769530Z",
     "shell.execute_reply.started": "2023-03-21T03:40:48.766734Z"
    },
    "scrolled": true,
    "tags": []
   },
   "outputs": [],
   "source": [
    "TRIP_NUM=len(D)\r\n",
    "D=D.reset_index()"
   ]
  },
  {
   "cell_type": "code",
   "execution_count": 16,
   "id": "b11fb0e7",
   "metadata": {
    "ExecuteTime": {
     "end_time": "2023-03-09T11:04:47.402473Z",
     "start_time": "2023-03-09T11:04:47.382044Z"
    },
    "code_folding": [
     0
    ],
    "execution": {
     "iopub.execute_input": "2023-03-21T03:40:48.771754Z",
     "iopub.status.busy": "2023-03-21T03:40:48.771103Z",
     "iopub.status.idle": "2023-03-21T03:40:48.781058Z",
     "shell.execute_reply": "2023-03-21T03:40:48.780368Z",
     "shell.execute_reply.started": "2023-03-21T03:40:48.771729Z"
    },
    "scrolled": true,
    "tags": []
   },
   "outputs": [],
   "source": [
    "#-------------距离和时间函数定义-------------------------#\n",
    "def Get_Dis(e1,n1,e2,n2):      #计算所有路径距离,传入两个点的经度，纬度\n",
    "        # O1=ox.distance.nearest_nodes(G_84,e1,n1)  #计算起点最近节点---------注：这里可以提前优化进行数据处理\n",
    "        # O2=ox.distance.nearest_nodes(G_84,e2,n2)  #计算终点最近节点\n",
    "        # if(nx.has_path(G_84,O1,O2)):\n",
    "        #     Dis=nx.shortest_path_length(G_84,O1,O2,weight='length')\n",
    "        # else:\n",
    "        #否则就用经纬度进行近似计算\n",
    "        lont1=(n1,e1)\n",
    "        lont2=(n2,e2)\n",
    "        Dis=haversine(lont1,lont2)*1000 #求出来默认是公里，转化成m\n",
    "        return Dis\n",
    "def cal_time(time1,time2):   #返回出行时间\n",
    "    h1=time1.hour\n",
    "    h2=time2.hour\n",
    "    m1=time1.minute\n",
    "    m2=time2.minute\n",
    "    return (h2-h1)*60+m2-m1\n",
    "\n",
    "#计算成本\n",
    "def cost(dis,leap): #leap=0 不合乘的出行 leap=1 合乘的出行\n",
    "    p0=[8,1.3,1]\n",
    "    p1=[6.4,1.04,0.78,0.6,0.4,0.3]\n",
    "    c=0\n",
    "    dis=dis/1000\n",
    "    if(leap==0):\n",
    "        if(dis<=3):\n",
    "            c=dis*p0[0]\n",
    "        elif(dis<=15):\n",
    "            c=3*p0[0]+(dis-3)*p0[1]\n",
    "        else:\n",
    "            c=3*p0[0]+12*p0[1]+(dis-15)*p0[2]\n",
    "    else:\n",
    "        if(dis<=3):\n",
    "            c=dis*p1[0]\n",
    "        elif(dis<=10):\n",
    "            c=3*p1[0]+(dis-3)*p1[1]\n",
    "        elif(dis<=15):\n",
    "            c=3*p1[0]+7*p1[1]+(dis-10)*p1[2]\n",
    "        elif(dis<=30):\n",
    "            c=3*p1[0]+7*p1[1]+5*p1[2]+(dis-15)*p1[3]\n",
    "        elif(dis<=500):\n",
    "            c=3*p1[0]+7*p1[1]+5*p1[2]+15*p1[3]+(dis-15)*p1[4]\n",
    "        else:\n",
    "            c=3*p1[0]+7*p1[1]+5*p1[2]+15*p1[3]+485*p1[4]+(dis-500)*p1[5]\n",
    "        #c=c*2\n",
    "    return c"
   ]
  },
  {
   "cell_type": "code",
   "execution_count": 17,
   "id": "38f86db0",
   "metadata": {
    "ExecuteTime": {
     "end_time": "2023-03-09T11:13:57.588153Z",
     "start_time": "2023-03-09T11:04:47.402473Z"
    },
    "code_folding": [],
    "execution": {
     "iopub.execute_input": "2023-03-21T03:40:48.782485Z",
     "iopub.status.busy": "2023-03-21T03:40:48.781947Z",
     "iopub.status.idle": "2023-03-21T03:40:48.785260Z",
     "shell.execute_reply": "2023-03-21T03:40:48.784580Z",
     "shell.execute_reply.started": "2023-03-21T03:40:48.782462Z"
    },
    "scrolled": true,
    "tags": []
   },
   "outputs": [],
   "source": [
    "# #修订一下行驶距离\n",
    "# for i in range(len(D)):\n",
    "#     e1=D.loc[i,\"出发X_84\"]\n",
    "#     n1=D.loc[i,\"出发Y_84\"]\n",
    "#     e2=D.loc[i,\"到达X_84\"]\n",
    "#     n2=D.loc[i,\"到达Y_84\"]\n",
    "#     D.loc[i,'行驶距离/m']=Get_Dis(G_84,e1,n1,e2,n2)"
   ]
  },
  {
   "cell_type": "code",
   "execution_count": 18,
   "id": "bd3fb925",
   "metadata": {
    "ExecuteTime": {
     "end_time": "2023-03-09T11:26:31.383949Z",
     "start_time": "2023-03-09T11:26:29.314680Z"
    },
    "execution": {
     "iopub.execute_input": "2023-03-21T03:40:48.786655Z",
     "iopub.status.busy": "2023-03-21T03:40:48.786103Z",
     "iopub.status.idle": "2023-03-21T03:40:48.789279Z",
     "shell.execute_reply": "2023-03-21T03:40:48.788613Z",
     "shell.execute_reply.started": "2023-03-21T03:40:48.786632Z"
    },
    "scrolled": true,
    "tags": []
   },
   "outputs": [],
   "source": [
    "# D.to_excel(r\"D:\\大学学习资料汇总\\交通工程专业\\2022交通科技大赛\\数据\\5000D.xlsx\")"
   ]
  },
  {
   "cell_type": "code",
   "execution_count": 19,
   "id": "20b66163",
   "metadata": {
    "ExecuteTime": {
     "end_time": "2023-03-08T15:03:24.292780Z",
     "start_time": "2023-03-08T15:03:24.263233Z"
    },
    "execution": {
     "iopub.execute_input": "2023-03-21T03:40:48.790925Z",
     "iopub.status.busy": "2023-03-21T03:40:48.790360Z",
     "iopub.status.idle": "2023-03-21T03:40:48.813133Z",
     "shell.execute_reply": "2023-03-21T03:40:48.812435Z",
     "shell.execute_reply.started": "2023-03-21T03:40:48.790900Z"
    },
    "scrolled": true,
    "tags": []
   },
   "outputs": [],
   "source": [
    "#建立路网，这里得到是GD1\n",
    "def Creat_Graph(Data,time_limit,distance_limit,leap): #参数leap表示建立路网以何为权重 0为车辆数 1为路程 2为时间\n",
    "    #创建图\n",
    "    G=nx.Graph()\n",
    "    G.add_nodes_from(Data.index)\n",
    "    for i in range(len(Data)):\n",
    "        for j in range(i+1,len(Data)):\n",
    "                #当前出行的起终点\n",
    "                lonlat1=(Data.loc[i,\"Home_Y\"],Data.loc[i,\"Home_X\"])\n",
    "                lonlat2=(Data.loc[j,\"Home_Y\"],Data.loc[j,\"Home_X\"])\n",
    "                Dis0=haversine(lonlat1,lonlat2) #家庭地址之间的距离利用正常经纬度算出来\n",
    "                if(Dis0<distance_limit) : #是否满足社交距离\n",
    "                    #2次出行的时间\n",
    "                    O_i=Data.loc[i,\"出发时间\"]\n",
    "                    D_i=Data.loc[i,\"到达时间\"]\n",
    "                    O_j=Data.loc[j,\"出发时间\"]\n",
    "                    D_j=Data.loc[j,\"到达时间\"]\n",
    "                    if(D_j >O_i and  D_i>O_j):   #首先满足第一道时间约束\n",
    "                        ti=Data.loc[i,\"花费时间\"]\n",
    "                        tj=Data.loc[j,\"花费时间\"]\n",
    "                        #计算时间差\n",
    "                        delta_Begin=cal_time(O_i,O_j)\n",
    "                        delta_End=cal_time(D_i,D_j)\n",
    "                        #2次出行的起终点的84经纬度\n",
    "                        #Get_Dis(G,e1,n1,e2,n2):      #计算所有路径距离,传入两个点的经度，纬度\n",
    "                        #计算两个起点和两个终点的距离差 利用84坐标系\n",
    "                        Dis1=Get_Dis(Data.loc[i,\"出发X_84\"],Data.loc[i,\"出发Y_84\"],Data.loc[j,\"出发X_84\"],Data.loc[j,\"出发Y_84\"])\n",
    "                        Dis2=Get_Dis(Data.loc[i,\"到达X_84\"],Data.loc[i,\"到达Y_84\"],Data.loc[j,\"到达X_84\"],Data.loc[j,\"到达Y_84\"])\n",
    "                        #从j出发到达i\n",
    "                        Disji=Get_Dis(Data.loc[j,\"出发X_84\"],Data.loc[j,\"出发Y_84\"],Data.loc[i,\"到达X_84\"],Data.loc[i,\"到达Y_84\"])\n",
    "                        #从i出发到达j\n",
    "                        Disij=Get_Dis(Data.loc[i,\"出发X_84\"],Data.loc[i,\"出发Y_84\"],Data.loc[j,\"到达X_84\"],Data.loc[j,\"到达Y_84\"])\n",
    "                        Dis01=Data.loc[i,\"行驶距离/m\"] #i本身到自己的距离\n",
    "                        Dis02=Data.loc[j,\"行驶距离/m\"] #j本身到自己的距离\n",
    "                        #单独出行速度和合乘速度\n",
    "                        si=Dis01/ti  #单位是m/minute\n",
    "                        sj=Dis02/tj\n",
    "                        snew=(si+sj)/2 #平均速度\n",
    "                        #计算合乘减少的距离 利用84坐标系\n",
    "                        #这里进行一个情况的讨论,分别有四种情况\n",
    "                        delever=False\n",
    "\n",
    "                        if(O_i<O_j):  #那么肯定先接i\n",
    "                                start_time = O_i\n",
    "                                bt1=Dis1/si\n",
    "                                if(bt1-delta_Begin<time_limit): #说明可以接送\n",
    "                                    if(Dis02<=Disji): #i->j->j->i\n",
    "                                        temp=Dis02/snew\n",
    "                                        if(temp+bt1-time_limit<cal_time(O_i,D_j) and temp+bt1+Dis2/si-time_limit<ti):\n",
    "                                            Dis_sum=Dis1+Dis02+Dis2\n",
    "                                            Time_sum=bt1+temp+Dis2/si\n",
    "                                            dis_hecheng=Dis02\n",
    "                                            delever=True\n",
    "                                    if(not delever):  #先接i，先送i ,这时不论距离了，只考虑时间 i->j->i->j\n",
    "                                        temp=Disji/snew\n",
    "                                        if(temp+bt1-time_limit<ti and temp+bt1+Dis2/sj-time_limit<cal_time(O_i,D_j)):\n",
    "                                            Dis_sum=Dis1+Disji+Dis2\n",
    "                                            Time_sum=bt1+temp+Dis2/sj\n",
    "                                            dis_hecheng=Disji\n",
    "                                            delever=True\n",
    "                                else:\n",
    "                                    continue  #说明无法合乘\n",
    "                        else:  #先接j,然后到i\n",
    "                                start_time = O_j\n",
    "                                bt1=Dis1/sj\n",
    "                                if(bt1-delta_Begin<time_limit): #说明可以接送\n",
    "                                    if(Dis01<=Disij): #先接j，先送i j->i->i->j\n",
    "                                        temp=Dis01/snew\n",
    "                                        if(temp+bt1-time_limit<cal_time(O_j,D_i) and temp+bt1+Dis2/sj-time_limit<tj):\n",
    "                                            Dis_sum=Dis1+Dis01+Dis2\n",
    "                                            dis_hecheng=Dis01\n",
    "                                            Time_sum=bt1+temp+Dis2/sj\n",
    "                                            delever=True\n",
    "                                    if(not delever):  #j->i->j->i\n",
    "                                        temp=Disij/snew\n",
    "                                        if(temp+bt1-time_limit<tj and temp+bt1+Dis2/si-time_limit<cal_time(O_j,D_i)):\n",
    "                                            Dis_sum=Dis1+Disij+Dis2\n",
    "                                            dis_hecheng=Disij\n",
    "                                            Time_sum=bt1+temp+Dis2/si\n",
    "                                            delever=True\n",
    "                                else:\n",
    "                                    continue\n",
    "                        c1=cost(Dis01,0)\n",
    "                        c2=cost(Dis02,0)\n",
    "                        c3=cost(Dis01,1)+cost(Dis02,1)   #1代表合乘\n",
    "                        cost_jianshao=c1+c2-c3\n",
    "                        if(delever):  #说明可以进行合乘\n",
    "                            dis_pingche=(dis_hecheng/Dis_sum)+1\n",
    "                            dis_jianshao=Dis01+Dis02-Dis_sum #合乘减少的距离\n",
    "                        #计算合乘减少的时间\n",
    "                            time_jianshao=ti+tj-Time_sum #合乘减少的时间\n",
    "                            yanwu1=(Time_sum+temp-ti-tj)/2\n",
    "                            # \n",
    "                            if(leap==0):\n",
    "                                G.add_edge(i,j,weight=1,another=(dis_jianshao/(Dis01+Dis02),time_jianshao/(ti+tj),cost_jianshao/(c1+c2)),start_time = start_time,time_sum=Time_sum,dis=dis_jianshao,dis1=dis_pingche,yanwu=yanwu1) #以该次合乘的车辆数作为权重\n",
    "                            elif(leap==1):\n",
    "                                G.add_edge(i,j,weight=dis_jianshao,another=(dis_jianshao/(Dis01+Dis02),time_jianshao/(ti+tj),cost_jianshao/(c1+c2)),start_time = start_time,time_sum=Time_sum,dis=dis_jianshao,dis1=dis_pingche,yanwu=yanwu1) #以该次合乘的总里程作为权重\n",
    "                            elif(leap==2):\n",
    "                                G.add_edge(i,j,weight=time_jianshao,another=(dis_jianshao/(Dis01+Dis02),time_jianshao/(ti+tj),cost_jianshao/(c1+c2)),start_time = start_time,time_sum=Time_sum,dis=dis_jianshao,dis1=dis_pingche,yanwu=yanwu1) #以该次合乘的总时间作为权重\n",
    "                            elif(leap==3):\n",
    "                                G.add_edge(i,j,weight=cost_jianshao,another=(dis_jianshao/(Dis01+Dis02),time_jianshao/(ti+tj),cost_jianshao/(c1+c2)),start_time = start_time,time_sum=Time_sum,dis=dis_jianshao,dis1=dis_pingche,yanwu=yanwu1)\n",
    "    return G"
   ]
  },
  {
   "cell_type": "code",
   "execution_count": 20,
   "id": "d38805b9",
   "metadata": {
    "ExecuteTime": {
     "end_time": "2023-03-08T15:03:24.308839Z",
     "start_time": "2023-03-08T15:03:24.294799Z"
    },
    "execution": {
     "iopub.execute_input": "2023-03-21T03:40:48.814501Z",
     "iopub.status.busy": "2023-03-21T03:40:48.814034Z",
     "iopub.status.idle": "2023-03-21T03:40:48.825283Z",
     "shell.execute_reply": "2023-03-21T03:40:48.824618Z",
     "shell.execute_reply.started": "2023-03-21T03:40:48.814478Z"
    },
    "scrolled": true,
    "tags": []
   },
   "outputs": [],
   "source": [
    "#----------------------------------------相交图转换函数集---------------------------------------#\n",
    "def ConALL(G1):\n",
    "    DU_sum=[0]*(G1.number_of_nodes()+1) #G1每个点所连的边在G2的起始位置\n",
    "    DU_one=[0]*G1.number_of_nodes() #G1每个点所连的边的数量\n",
    "    G2=nx.Graph() #G2相交图\n",
    "    G2.add_nodes_from(range(G1.number_of_edges()))\n",
    "    #建立点\n",
    "    mark=0 #G2点的索引\n",
    "    vel=0 #G1点的索引\n",
    "    for arc in G1.edges():\n",
    "        G2.nodes[mark][\"key\"]=arc #记录连接的边作为G2点的属性\n",
    "        G2.nodes[mark][\"weight\"]=G1.edges[list((arc))]['weight']#G1边的权重作为G2点的属性\n",
    "        G2.nodes[mark][\"another\"]=G1.edges[list((arc))]['another']#G1边的权重作为G2点的属性\n",
    "        G2.nodes[mark][\"start_time\"]=G1.edges[list((arc))]['start_time']#G1边的权重作为G2点的属性\n",
    "        G2.nodes[mark][\"time_sum\"]=G1.edges[list((arc))]['time_sum']#G1边的权重作为G2点的属性\n",
    "        G2.nodes[mark][\"dis\"]=G1.edges[list((arc))]['dis']#G1边的权重作为G2点的属性\n",
    "        G2.nodes[mark][\"dis1\"]=G1.edges[list((arc))]['dis1']#G1边的权重作为G2点的属性\n",
    "        G2.nodes[mark][\"yanwu\"]=G1.edges[list((arc))]['yanwu']#G1边的权重作为G2点的属性\n",
    "        while(vel<arc[0]):\n",
    "            DU_sum[vel+1]=mark #赋值DU_sum\n",
    "            vel=vel+1\n",
    "        DU_one[vel]=DU_one[vel]+1 #赋值DU_one\n",
    "        mark=mark+1\n",
    "    #建立边\n",
    "    KONG=[] #度为0的出行\n",
    "    for node in G1.nodes():\n",
    "        if G1.degree[node]<=0: #度为0的点加入到KONG\n",
    "            KONG.append(node)\n",
    "            continue\n",
    "        temp=[] #与G1点相连的边在G2的索引\n",
    "        for i in G1[node]:\n",
    "            if i<node: #找到小于当前结点的点的具体索引\n",
    "                ans=0\n",
    "                for j in G1[i]:\n",
    "                    if(j<node and j>i):\n",
    "                        ans=ans+1\n",
    "                    elif(j==node):\n",
    "                        break\n",
    "                bns=ans+DU_sum[i]\n",
    "                temp.append(bns)\n",
    "            else:\n",
    "                break\n",
    "        for j in range(DU_one[node]): #找到大于当前结点的点的具体索引\n",
    "            temp.append(DU_sum[node]+j)\n",
    "        #print(temp)\n",
    "        for i1 in range(len(temp)):\n",
    "            for j1 in range(i1+1,len(temp)):\n",
    "                if(temp[i1]!=temp[j1]):\n",
    "                    G2.add_edge(temp[i1],temp[j1]) #根据索引进行各点的加边\n",
    "    return (G2,KONG)"
   ]
  },
  {
   "cell_type": "code",
   "execution_count": 21,
   "id": "41a9fca6",
   "metadata": {
    "ExecuteTime": {
     "end_time": "2023-03-08T15:03:24.324892Z",
     "start_time": "2023-03-08T15:03:24.311842Z"
    },
    "code_folding": [],
    "execution": {
     "iopub.execute_input": "2023-03-21T03:40:48.826660Z",
     "iopub.status.busy": "2023-03-21T03:40:48.826436Z",
     "iopub.status.idle": "2023-03-21T03:40:48.837416Z",
     "shell.execute_reply": "2023-03-21T03:40:48.836747Z",
     "shell.execute_reply.started": "2023-03-21T03:40:48.826640Z"
    },
    "scrolled": true,
    "tags": []
   },
   "outputs": [],
   "source": [
    "#--------------------------求最小车辆数函数---------------------------#\n",
    "def Get_MinusCar(G2,D,SE):\n",
    "    No=[0]*TRIP_NUM     #总体订单序号\n",
    "\n",
    "    for i in SE:\n",
    "        u,v=G2.nodes[i]['key']         #筛选可以拼车的订单序号，在总体订单中筛出\n",
    "        No[u]=1\n",
    "        No[v]=1\n",
    "    Order_single_NUM=0\n",
    "    Order_list=[]\n",
    "    for i in range(TRIP_NUM):\n",
    "        if(No[i]==0):\n",
    "        #用类似时间戳的方式计算时间\n",
    "            start_time=D.loc[i][\"出发时间\"].hour*3600+D.loc[i][\"出发时间\"].minute*60+D.loc[i][\"出发时间\"].second\n",
    "            end_time=D.loc[i][\"到达时间\"].hour*3600+D.loc[i][\"到达时间\"].minute*60+D.loc[i][\"到达时间\"].second\n",
    "            Order_list.append([start_time,end_time,0])\n",
    "            Order_single_NUM += 1\n",
    "    #next\n",
    "    Order_share_NUM = 0\n",
    "    for i in SE:\n",
    "        start_time = G2.nodes[i][\"start_time\"].hour*3600+G2.nodes[i][\"start_time\"].minute*60+G2.nodes[i][\"start_time\"].second\n",
    "\n",
    "        end_time=start_time+G2.nodes[i][\"time_sum\"]\n",
    "\n",
    "        Order_list.append([start_time,end_time,0])\n",
    "        Order_share_NUM+=1\n",
    "    #find car\n",
    "    #计算最小车辆数\n",
    "    car_num=0;\n",
    "    while(1):\n",
    "        #找到每一辆车的第一单\n",
    "        time_min=90000024\n",
    "        no_min=-1\n",
    "        for i in range(Order_single_NUM+Order_share_NUM):\n",
    "            if(Order_list[i][2]==0):\n",
    "                if(Order_list[i][0]<time_min):\n",
    "                    no_min=i\n",
    "                    time_min=Order_list[i][0]\n",
    "\n",
    "        if(no_min==-1):\n",
    "            break\n",
    "        Order_list[no_min][2]=1      #该订单已经标记\n",
    "        #取出第一单的结束时间\n",
    "        time_node=Order_list[no_min][1]\n",
    "        while(1):\n",
    "\n",
    "            times_node_min=9000909      #距离上一单拼车结束时间节点差值的最小值\n",
    "            no_node_min = -1            #距离上一单拼车结束时间节点的最小值对应的节点\n",
    "            for i in range(Order_single_NUM+Order_share_NUM):\n",
    "                if(Order_list[i][2]==0):\n",
    "                    if(Order_list[i][0]>time_node):         #新订单的开始时间应在节点之后\n",
    "                        if(Order_list[i][0]-time_node<times_node_min):          #找最小值\n",
    "                            times_node_min=Order_list[i][0]-time_node\n",
    "                            no_node_min=i\n",
    "                    else:\n",
    "                        continue\n",
    "            #找完了收工\n",
    "            if(no_node_min==-1):\n",
    "\n",
    "                car_num+=1\n",
    "                break\n",
    "\n",
    "            #还没找完接着找\n",
    "            time_node=Order_list[no_node_min][1]+60*60\n",
    "            Order_list[no_node_min][2]=1\n",
    "    return car_num"
   ]
  },
  {
   "cell_type": "code",
   "execution_count": 22,
   "id": "71c91cf7-6858-4e32-8657-5ecadf22055f",
   "metadata": {
    "execution": {
     "iopub.execute_input": "2023-03-21T03:40:48.838711Z",
     "iopub.status.busy": "2023-03-21T03:40:48.838490Z",
     "iopub.status.idle": "2023-03-21T03:40:48.842269Z",
     "shell.execute_reply": "2023-03-21T03:40:48.841596Z",
     "shell.execute_reply.started": "2023-03-21T03:40:48.838692Z"
    },
    "scrolled": true,
    "tags": []
   },
   "outputs": [],
   "source": [
    "dis_jianshao=np.zeros(4)\n",
    "chezailv=np.zeros(4)\n",
    "pingchelv=np.zeros(4)\n",
    "raoxingjuli=np.zeros(4)\n",
    "raoxingbi=np.zeros(4)\n",
    "yanwu=np.zeros(4)"
   ]
  },
  {
   "cell_type": "code",
   "execution_count": 23,
   "id": "fa5595e7-5944-44c8-89aa-81cc97d309cd",
   "metadata": {
    "execution": {
     "iopub.execute_input": "2023-03-21T03:40:48.843840Z",
     "iopub.status.busy": "2023-03-21T03:40:48.843173Z",
     "iopub.status.idle": "2023-03-21T03:40:48.846882Z",
     "shell.execute_reply": "2023-03-21T03:40:48.846220Z",
     "shell.execute_reply.started": "2023-03-21T03:40:48.843816Z"
    },
    "scrolled": true,
    "tags": []
   },
   "outputs": [],
   "source": [
    "# #15 15 3下的不同指标的对比\r\n",
    "# res=np.zeros([4,4])\r\n",
    "# for i in [2]:\r\n",
    "#     GD1=Creat_Graph(D,15,3,i)\r\n",
    "#     G2,KONG=ConALL(GD1)\r\n",
    "#     print(\"Geneal\")\r\n",
    "#     SE=ILS_VND(G2,50)\r\n",
    "#     d0=0 #绕行比的出行距离 与dis0区分开来\r\n",
    "#     dis1=0\r\n",
    "#     time1=0\r\n",
    "#     cost1=0\r\n",
    "#     for j in SE:\r\n",
    "#         d0+=D.loc[G2.nodes[j]['key'][0],\"行驶距离/m\"]\r\n",
    "#         d0+=D.loc[G2.nodes[j]['key'][1],\"行驶距离/m\"]\r\n",
    "#         dis1+=G2.nodes[j]['another'][0]\r\n",
    "#         time1+=G2.nodes[j]['another'][1]\r\n",
    "#         cost1+=G2.nodes[j]['another'][2]\r\n",
    "#         dis_jianshao[i]+=G2.nodes[j]['dis']\r\n",
    "#         chezailv[i]+=G2.nodes[j]['dis1']\r\n",
    "#         yanwu[i]+=G2.nodes[j]['yanwu']\r\n",
    "#     car_num=Get_MinusCar(G2,D,SE)\r\n",
    "#     res[i][0]=dis1/len(SE)\r\n",
    "#     res[i][1]=time1/len(SE)\r\n",
    "#     res[i][2]=cost1/len(SE)\r\n",
    "#     res[i][3]=car_num/len(D)\r\n",
    "#     raoxingjuli[i]=dis_jianshao[i]/len(SE)\r\n",
    "#     raoxingbi[i]=dis_jianshao[i]/d0\r\n",
    "#     pingchelv[i]+=(len(SE)*2/TRIP_NUM)\r\n",
    "#     chezailv[i]=chezailv[i]/len(SE)\r\n",
    "#     yanwu[i]=yanwu[i]/len(SE)\r\n",
    "#     print(res[i])"
   ]
  },
  {
   "cell_type": "code",
   "execution_count": 24,
   "id": "8b3ccf05-a6e9-4503-8f29-af807404ba7c",
   "metadata": {
    "execution": {
     "iopub.execute_input": "2023-03-21T03:40:48.848268Z",
     "iopub.status.busy": "2023-03-21T03:40:48.847720Z",
     "iopub.status.idle": "2023-03-21T03:40:48.850782Z",
     "shell.execute_reply": "2023-03-21T03:40:48.850117Z",
     "shell.execute_reply.started": "2023-03-21T03:40:48.848245Z"
    },
    "scrolled": true,
    "tags": []
   },
   "outputs": [],
   "source": [
    "# for i in range(len(G2.nodes)):\r\n",
    "#         print(G2.nodes[i]['weight'])"
   ]
  },
  {
   "cell_type": "code",
   "execution_count": 25,
   "id": "6ae13eda",
   "metadata": {
    "ExecuteTime": {
     "end_time": "2023-03-08T15:12:37.641455Z",
     "start_time": "2023-03-08T15:03:24.326838Z"
    },
    "execution": {
     "iopub.execute_input": "2023-03-21T03:40:48.855673Z",
     "iopub.status.busy": "2023-03-21T03:40:48.855109Z",
     "iopub.status.idle": "2023-03-21T03:45:53.661248Z",
     "shell.execute_reply": "2023-03-21T03:45:53.659916Z",
     "shell.execute_reply.started": "2023-03-21T03:40:48.855650Z"
    },
    "scrolled": true,
    "tags": []
   },
   "outputs": [
    {
     "name": "stdout",
     "output_type": "stream",
     "text": [
      "[0.2909966  0.3423753  0.21385293 0.18913481]\r\n",
      "[0.42779384 0.44628909 0.21471726 0.19114688]\r\n",
      "[0.38732355 0.45966982 0.21429573 0.18913481]\r\n",
      "[0.3075903  0.3557584  0.21462404 0.18309859]\r\n"
     ]
    }
   ],
   "source": [
    "#15 15 3下的不同指标的对比\n",
    "res=np.zeros([4,4])\n",
    "for i in [0,1,2,3]:\n",
    "    GD1=Creat_Graph(D,15,3,i)\n",
    "    G2,KONG=ConALL(GD1)\n",
    "    SE=ILS_VND(G2,50)\n",
    "    d0=0 #绕行比的出行距离 与dis0区分开来\n",
    "    dis1=0\n",
    "    time1=0\n",
    "    cost1=0\n",
    "    for j in SE:\n",
    "        d0+=D.loc[G2.nodes[j]['key'][0],\"行驶距离/m\"]\n",
    "        d0+=D.loc[G2.nodes[j]['key'][1],\"行驶距离/m\"]\n",
    "        dis1+=G2.nodes[j]['another'][0]\n",
    "        time1+=G2.nodes[j]['another'][1]\n",
    "        cost1+=G2.nodes[j]['another'][2]\n",
    "        dis_jianshao[i]+=G2.nodes[j]['dis']\n",
    "        chezailv[i]+=G2.nodes[j]['dis1']\n",
    "        yanwu[i]+=G2.nodes[j]['yanwu']\n",
    "    car_num=Get_MinusCar(G2,D,SE)\n",
    "    res[i][0]=dis1/len(SE)\n",
    "    res[i][1]=time1/len(SE)\n",
    "    res[i][2]=cost1/len(SE)\n",
    "    res[i][3]=car_num/len(D)\n",
    "    raoxingjuli[i]=dis_jianshao[i]/len(SE)\n",
    "    raoxingbi[i]=dis_jianshao[i]/d0\n",
    "    pingchelv[i]+=(len(SE)*2/TRIP_NUM)\n",
    "    chezailv[i]=chezailv[i]/len(SE)\n",
    "    yanwu[i]=yanwu[i]/len(SE)\n",
    "    print(res[i])"
   ]
  },
  {
   "cell_type": "code",
   "execution_count": 26,
   "id": "e9b61fd2-d59d-4b42-9918-7fb3850ad2c7",
   "metadata": {
    "execution": {
     "iopub.execute_input": "2023-03-21T03:45:53.663058Z",
     "iopub.status.busy": "2023-03-21T03:45:53.662753Z",
     "iopub.status.idle": "2023-03-21T03:45:53.668743Z",
     "shell.execute_reply": "2023-03-21T03:45:53.668031Z",
     "shell.execute_reply.started": "2023-03-21T03:45:53.663030Z"
    },
    "scrolled": true,
    "tags": []
   },
   "outputs": [
    {
     "data": {
      "text/plain": [
       "array([1.31639548, 1.42722021, 1.38141168, 1.33919185])"
      ]
     },
     "execution_count": 26,
     "metadata": {},
     "output_type": "execute_result"
    }
   ],
   "source": [
    "chezailv"
   ]
  },
  {
   "cell_type": "code",
   "execution_count": 27,
   "id": "35b0aa8a-95d3-4122-ba2f-125ab1060a38",
   "metadata": {
    "execution": {
     "iopub.execute_input": "2023-03-21T03:45:53.670404Z",
     "iopub.status.busy": "2023-03-21T03:45:53.669700Z",
     "iopub.status.idle": "2023-03-21T03:45:53.674224Z",
     "shell.execute_reply": "2023-03-21T03:45:53.673547Z",
     "shell.execute_reply.started": "2023-03-21T03:45:53.670379Z"
    },
    "scrolled": true,
    "tags": []
   },
   "outputs": [
    {
     "data": {
      "text/plain": [
       "array([0.64386318, 0.58752515, 0.60764588, 0.65191147])"
      ]
     },
     "execution_count": 27,
     "metadata": {},
     "output_type": "execute_result"
    }
   ],
   "source": [
    "pingchelv"
   ]
  },
  {
   "cell_type": "code",
   "execution_count": 28,
   "id": "5765a4a9-b00b-4215-a813-3e6f568c8f6e",
   "metadata": {
    "execution": {
     "iopub.execute_input": "2023-03-21T03:45:53.675647Z",
     "iopub.status.busy": "2023-03-21T03:45:53.675139Z",
     "iopub.status.idle": "2023-03-21T03:45:53.679512Z",
     "shell.execute_reply": "2023-03-21T03:45:53.678817Z",
     "shell.execute_reply.started": "2023-03-21T03:45:53.675625Z"
    },
    "scrolled": true,
    "tags": []
   },
   "outputs": [
    {
     "data": {
      "text/plain": [
       "array([-4.4216006 , -7.26513391, -8.39511421, -4.54199787])"
      ]
     },
     "execution_count": 28,
     "metadata": {},
     "output_type": "execute_result"
    }
   ],
   "source": [
    "yanwu"
   ]
  },
  {
   "cell_type": "code",
   "execution_count": 29,
   "id": "b04ae4c0-a094-4788-a97e-6c9b6469f9ed",
   "metadata": {
    "execution": {
     "iopub.execute_input": "2023-03-21T03:45:53.680794Z",
     "iopub.status.busy": "2023-03-21T03:45:53.680586Z",
     "iopub.status.idle": "2023-03-21T03:45:53.684578Z",
     "shell.execute_reply": "2023-03-21T03:45:53.683924Z",
     "shell.execute_reply.started": "2023-03-21T03:45:53.680775Z"
    },
    "scrolled": true,
    "tags": []
   },
   "outputs": [
    {
     "data": {
      "text/plain": [
       "array([ 6696.12323342, 10344.37817365,  8263.61825226,  7238.43916017])"
      ]
     },
     "execution_count": 29,
     "metadata": {},
     "output_type": "execute_result"
    }
   ],
   "source": [
    "raoxingjuli"
   ]
  },
  {
   "cell_type": "code",
   "execution_count": 30,
   "id": "09173db0-9104-4447-9c51-a5fda3a98e55",
   "metadata": {
    "execution": {
     "iopub.execute_input": "2023-03-21T03:45:53.686027Z",
     "iopub.status.busy": "2023-03-21T03:45:53.685524Z",
     "iopub.status.idle": "2023-03-21T03:45:53.689691Z",
     "shell.execute_reply": "2023-03-21T03:45:53.689037Z",
     "shell.execute_reply.started": "2023-03-21T03:45:53.686003Z"
    },
    "scrolled": true,
    "tags": []
   },
   "outputs": [
    {
     "data": {
      "text/plain": [
       "array([0.33344139, 0.46752455, 0.39366319, 0.34447126])"
      ]
     },
     "execution_count": 30,
     "metadata": {},
     "output_type": "execute_result"
    }
   ],
   "source": [
    "raoxingbi"
   ]
  },
  {
   "cell_type": "code",
   "execution_count": 31,
   "id": "d5102428",
   "metadata": {
    "ExecuteTime": {
     "end_time": "2023-03-08T15:13:37.613069Z",
     "start_time": "2023-03-08T15:13:37.594066Z"
    },
    "execution": {
     "iopub.execute_input": "2023-03-21T03:45:53.691178Z",
     "iopub.status.busy": "2023-03-21T03:45:53.690631Z",
     "iopub.status.idle": "2023-03-21T03:45:53.695945Z",
     "shell.execute_reply": "2023-03-21T03:45:53.695286Z",
     "shell.execute_reply.started": "2023-03-21T03:45:53.691154Z"
    },
    "scrolled": true,
    "tags": []
   },
   "outputs": [
    {
     "data": {
      "text/plain": [
       "array([2587.80280403, 2313.92951852, 2477.71258145, 2524.62440983])"
      ]
     },
     "execution_count": 31,
     "metadata": {},
     "output_type": "execute_result"
    }
   ],
   "source": [
    "youhao=(D.loc[:,\"行驶距离/m\"].sum()-dis_jianshao)*8*7.8/1000/100\n",
    "youhao"
   ]
  },
  {
   "cell_type": "code",
   "execution_count": 32,
   "id": "630674da",
   "metadata": {
    "ExecuteTime": {
     "end_time": "2023-03-08T15:12:37.672474Z",
     "start_time": "2023-03-08T15:12:37.658472Z"
    },
    "execution": {
     "iopub.execute_input": "2023-03-21T03:45:53.697452Z",
     "iopub.status.busy": "2023-03-21T03:45:53.696934Z",
     "iopub.status.idle": "2023-03-21T03:45:53.699923Z",
     "shell.execute_reply": "2023-03-21T03:45:53.699243Z",
     "shell.execute_reply.started": "2023-03-21T03:45:53.697429Z"
    },
    "scrolled": true,
    "tags": []
   },
   "outputs": [],
   "source": [
    "# import matplotlib.pyplot as plt\n",
    "# plt.rcParams[\"font.sans-serif\"]=[\"SimHei\"]\n",
    "# plt.rcParams[\"axes.unicode_minus\"]=False\n",
    "# my_x_ticks=[\"Vel_Num\",\"Dis\",\"Time\",\"Cost\"]\n",
    "# N=[\"Reduced vel_num\",'Reduced distance', 'Reduced time',\"Reduced Cost\"]"
   ]
  },
  {
   "cell_type": "code",
   "execution_count": 33,
   "id": "ce6b0af1",
   "metadata": {
    "ExecuteTime": {
     "end_time": "2023-03-08T15:12:37.892141Z",
     "start_time": "2023-03-08T15:12:37.673472Z"
    },
    "execution": {
     "iopub.execute_input": "2023-03-21T03:45:53.701200Z",
     "iopub.status.busy": "2023-03-21T03:45:53.700769Z",
     "iopub.status.idle": "2023-03-21T03:45:53.704466Z",
     "shell.execute_reply": "2023-03-21T03:45:53.703770Z",
     "shell.execute_reply.started": "2023-03-21T03:45:53.701178Z"
    },
    "scrolled": true,
    "tags": []
   },
   "outputs": [],
   "source": [
    "# import plotly.graph_objects as go\n",
    "# fig = go.Figure()\n",
    "# fig.add_trace(\n",
    "#     go.Scatter(\n",
    "#         x=my_x_ticks,\n",
    "#         y=res[0],\n",
    "#         mode=\"markers+lines\",\n",
    "#         name=N[0],   \n",
    "# ))\n",
    "# fig.add_trace(\n",
    "#     go.Scatter(\n",
    "#         x=my_x_ticks,\n",
    "#         y=res[1],\n",
    "#         mode=\"markers+lines\",\n",
    "#         name=N[1],\n",
    "# ))\n",
    "# fig.add_trace(\n",
    "#     go.Scatter(\n",
    "#         x=my_x_ticks,\n",
    "#         y=res[2],\n",
    "#         mode=\"markers+lines\",\n",
    "#         name=N[2], \n",
    "# ))\n",
    "# fig.add_trace(\n",
    "#     go.Scatter(\n",
    "#         x=my_x_ticks,\n",
    "#         y=res[3],\n",
    "#         mode=\"markers+lines\",\n",
    "#         name=N[3], \n",
    "# ))\n",
    "# fig.update_layout(\n",
    "#     title=\"Comparison chart under different indicators\",\n",
    "#     xaxis=dict(title=\"Indicators\", nticks=13),\n",
    "#     yaxis=dict(title=\"Percent\", nticks=11, rangemode=\"tozero\", range=(0,0.4)),\n",
    "#     width=1000,\n",
    "#     height=500,\n",
    "# #     template='plotly_dark'\n",
    "# )\n",
    "# fig.show()\n"
   ]
  },
  {
   "cell_type": "code",
   "execution_count": null,
   "id": "ef67dd52",
   "metadata": {
    "ExecuteTime": {
     "end_time": "2023-03-08T15:12:46.375246Z",
     "start_time": "2023-03-08T15:12:37.894141Z"
    },
    "execution": {
     "iopub.execute_input": "2023-03-21T03:45:53.705818Z",
     "iopub.status.busy": "2023-03-21T03:45:53.705341Z"
    },
    "scrolled": true,
    "tags": []
   },
   "outputs": [],
   "source": [
    "#以time_limit为变量进行灵敏度分析\n",
    "td=range(0,16)\n",
    "res1=np.zeros([4,len(td)])\n",
    "for i in range(1,16):\n",
    "    GD1=Creat_Graph(D,i,3,3) #100数据的路网 以路程为权重\n",
    "    G2,KONG=ConALL(GD1)\n",
    "    SE=ILS_VND(G2,50)\n",
    "    time1=0\n",
    "    dis1=0\n",
    "    cost1=0\n",
    "    for j in SE:\n",
    "        time1+=G2.nodes[j]['another'][0]\n",
    "        dis1+=G2.nodes[j]['another'][1]\n",
    "        cost1+=G2.nodes[j]['another'][2]\n",
    "    car_num=Get_MinusCar(G2,D,SE)\n",
    "    res1[0][i]=dis1/len(SE)\n",
    "    res1[1][i]=time1/len(SE)\n",
    "    res1[2][i]=cost1/len(SE)\n",
    "    res1[3][i]=car_num/len(D)\n",
    "    print(res1[0][i],res1[1][i],res1[2][i],res1[3][i])"
   ]
  },
  {
   "cell_type": "code",
   "execution_count": null,
   "id": "32bef0f7",
   "metadata": {
    "ExecuteTime": {
     "end_time": "2023-03-08T15:12:46.377214Z",
     "start_time": "2023-03-08T15:12:46.377214Z"
    },
    "scrolled": true
   },
   "outputs": [],
   "source": [
    "# import plotly.graph_objects as go\n",
    "# X=np.arange(1,16)\n",
    "# fig = go.Figure()\n",
    "# fig.add_trace(\n",
    "#     go.Scatter(\n",
    "#         x=X,\n",
    "#         y=res1[0],\n",
    "#         mode=\"markers+lines+text\",\n",
    "#         name=N[0],   \n",
    "#         line_shape='spline'\n",
    "# ))\n",
    "# fig.add_trace(\n",
    "#     go.Scatter(\n",
    "#         x=X,\n",
    "#         y=res1[1],\n",
    "#         mode=\"markers+lines\",\n",
    "#         name=N[1],\n",
    "#         line_shape='spline',\n",
    "#         marker={\"symbol\":\"star\",\"size\":10}\n",
    "# ))\n",
    "# fig.add_trace(\n",
    "#     go.Scatter(\n",
    "#         x=X,\n",
    "#         y=res1[2],\n",
    "#         mode=\"markers+lines\",\n",
    "#         name=N[2], \n",
    "#         text=res1[2],\n",
    "#         marker={\"symbol\":\"x\",\"size\":10}\n",
    "# ))\n",
    "# fig.update_layout(\n",
    "#     title=\"Multiplication weighted by TimeLimit\n",
    "#     xaxis=dict(title=\"Time limit\", nticks=16),\n",
    "#     yaxis=dict(title=\"Percent\", nticks=11, rangemode=\"tozero\", range=(0,0.5)),\n",
    "#     width=1000,\n",
    "#     height=500,\n",
    "#     template='simple white'\n",
    "# )\n",
    "# # 通过位置参数来改变\n",
    "# fig.update_layout(legend=dict(\n",
    "#     yanchor=\"top\",  # y轴顶部\n",
    "#     y=0.99,\n",
    "#     xanchor=\"left\",  # x轴靠左\n",
    "#     x=0.01\n",
    "# ))\n",
    "# fig.show()\n"
   ]
  },
  {
   "cell_type": "code",
   "execution_count": null,
   "id": "bd7bea58",
   "metadata": {
    "scrolled": true
   },
   "outputs": [],
   "source": []
  },
  {
   "cell_type": "code",
   "execution_count": null,
   "id": "a6ab00b5",
   "metadata": {
    "scrolled": true
   },
   "outputs": [],
   "source": []
  }
 ],
 "metadata": {
  "kernelspec": {
   "display_name": "Python 3",
   "language": "python",
   "name": "py35-paddle1.2.0"
  },
  "language_info": {
   "codemirror_mode": {
    "name": "ipython",
    "version": 3
   },
   "file_extension": ".py",
   "mimetype": "text/x-python",
   "name": "python",
   "nbconvert_exporter": "python",
   "pygments_lexer": "ipython3",
   "version": "3.7.4"
  }
 },
 "nbformat": 4,
 "nbformat_minor": 5
}
